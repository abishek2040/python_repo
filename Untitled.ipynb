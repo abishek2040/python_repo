{
 "cells": [
  {
   "cell_type": "code",
   "execution_count": null,
   "id": "749ca7c8-1c62-4647-bc23-55b39675ecf4",
   "metadata": {},
   "outputs": [],
   "source": [
    "# This is a project in python that we are doing, data visualization. \n",
    "# Data visualization in general can be defined as the meaningful way of representing data, so that the underlying patterns and the connections can\n",
    "# identified for improved business and analytical descision. Python is one of the most commonly used programming language used for data visualization, \n",
    "# because of the array of tools, and libraries that are available, such as the matplotlib library, which is mathematical plotting library. "
   ]
  },
  {
   "cell_type": "code",
   "execution_count": null,
   "id": "665d60b4-ce8d-439b-b5b2-d0e457c4aa91",
   "metadata": {},
   "outputs": [],
   "source": [
    "# Let's see an example for plotting a simple graph here.\n",
    "import matplotlib.pyplot as plt  # importing the pyplot module from matplotlib library as plt (alias). \n",
    "# pyplot contains a number of functions that help generate charts and plots. \n",
    "\n",
    "squares = [1,4,9,16,25] # A list of square numbers \n",
    "\n",
    "plt.plot(squares) # The plot() function helps plot the numbers in the list 'Squares' in a meaningful way. \n",
    "plt.show() # The show() function prints out the plot. \n",
    "\n",
    "# Thus this is one of the most simplest plots that you can make in matplotlib.\n"
   ]
  },
  {
   "cell_type": "code",
   "execution_count": null,
   "id": "ded327e6-9cd4-49d5-9d77-6ced08f2ed8e",
   "metadata": {},
   "outputs": [],
   "source": [
    "# The figure above is pretty simple, but we can customize the plot to make it more defining. "
   ]
  },
  {
   "cell_type": "code",
   "execution_count": null,
   "id": "8580fcca-5277-4535-be61-1213371660b0",
   "metadata": {},
   "outputs": [],
   "source": [
    "# let's customize the above plot, to improve the readability. \n",
    "import matplotlib.pyplot as plt\n",
    "\n",
    "squares = [1,4,9,16,25,36] # The data which is plotted. \n",
    "plt.plot(squares, linewidth=3.5) # The plot() function generates a plot of the list 'Squares' and the linewidth parameter controls the thickness of the line that the plot() function generates. \n",
    "\n",
    "#set chart title and label the axes. \n",
    "plt.title(\"Square Numbers\", fontsize=24) # The title() function is used to set a title for the plot, and the fontsize paramater seen throughout the program, controls the size of the text on the chart. \n",
    "plt.xlabel(\"Value\", fontsize=12) # The xlabel() and the ylabel() functions allows you to set a title for each of the axes. \n",
    "plt.ylabel(\"Square of value\", fontsize=12)\n",
    "\n",
    "# Set size of the tick labels. \n",
    "plt.tick_params(axis=\"both\", labelsize = 10) # And finally the tick_params() function styles the tickmark on both the x- and y-axes. (axes = \"Both\").\n",
    "plt.show() # Display the plot."
   ]
  },
  {
   "cell_type": "code",
   "execution_count": null,
   "id": "f2093e28-5f57-4689-98b2-849a643ffa80",
   "metadata": {},
   "outputs": [],
   "source": [
    "# Here we notice that the plot is not correct, as the square value of 4 is plotted to 25. Which is incorrect. As we can see that the value starts from 0\n",
    "# Thus, we can modify this by providing, the input values as well as the output values used to calculate the squares. \n",
    "# Let's make the plot once again, using the new input values for the plot. "
   ]
  },
  {
   "cell_type": "code",
   "execution_count": null,
   "id": "c9b92ee9-1d3e-4931-a87c-996ba050a32b",
   "metadata": {},
   "outputs": [],
   "source": [
    "import matplotlib.pyplot as plt\n",
    "\n",
    "input_number = [1,2,3,4,5,6]\n",
    "squares = [1,4,9,16,25,36]\n",
    "\n",
    "plt.plot(input_number, squares,  linewidth=3.5)\n",
    "plt.title(\"Square Numbers Between 1 to 6\", fontsize=20)\n",
    "plt.xlabel(\"Value\", fontsize=12)\n",
    "plt.ylabel(\"Square of Value\", fontsize= 14)\n",
    "plt.tick_params(axis=\"both\", labelsize=10)\n",
    "\n",
    "plt.show()\n",
    "\n"
   ]
  },
  {
   "cell_type": "code",
   "execution_count": null,
   "id": "6c99be75-ff3a-4b51-9da3-7a4c92466ab6",
   "metadata": {},
   "outputs": [],
   "source": []
  },
  {
   "cell_type": "code",
   "execution_count": null,
   "id": "53068f35-c963-469d-a810-2cc3c25a78c5",
   "metadata": {},
   "outputs": [],
   "source": [
    "# Sometimes it's useful to be able to plot and style individual points bases on certain characteristics. For example, you might want to plot \n",
    "# smaller values in one colour and larger value in another color, for better visualization. You could also plot a large data set with one set of styling\n",
    "# options and then emphasize individual points by replotting them with different options. \n"
   ]
  },
  {
   "cell_type": "code",
   "execution_count": null,
   "id": "a8c53b6b",
   "metadata": {},
   "outputs": [],
   "source": [
    "# This is an example of scatter plot. \n",
    "import matplotlib.pyplot as plt\n",
    "plt.scatter(2,4, s=200)\n",
    "# set the chart title and label the axes. \n",
    "plt.title(\"An example of scatter plot. \")\n",
    "plt.xlabel(\"Value\", fontsize=12)\n",
    "plt.ylabel(\"Square of value\", fontsize= 12)\n",
    "plt.tick_params(axis=\"both\", labelsize=12)\n",
    "plt.show()"
   ]
  },
  {
   "cell_type": "code",
   "execution_count": null,
   "id": "b079b1aa",
   "metadata": {},
   "outputs": [],
   "source": [
    "# To plot a series of points, we can pass scatter() separate lists of x- and y-values, like this:\n",
    "\n",
    "import matplotlib.pyplot as plt \n",
    "\n",
    "x_values = [1,2,3,4,5]\n",
    "y_values = [1,4,9,16,25]\n",
    "\n",
    "plt.scatter(x_values, y_values, s=100)\n",
    "plt.show()\n",
    "\n",
    "\"\"\"\"\n",
    "The x_value contains the number to be squared and y_value contains the squared value. \n",
    "When these lists are passed to scatter(), matplotlib reads one value from each list as it plots each point. The points to be plotted are (1,1) (2,4) (3,9) (4,16) & (5,25)\n",
    "\"\"\"\n",
    "\n"
   ]
  },
  {
   "cell_type": "code",
   "execution_count": null,
   "id": "0045f6ab",
   "metadata": {},
   "outputs": [],
   "source": [
    "import matplotlib.pyplot as plt\n",
    "\n",
    "name = [\"Abishek\", \"Rooney\", \"Ronaldo\", \"Alex\"]\n",
    "age = [22, 37, 38, 85]\n",
    "\n",
    "plt.scatter(name, age, s=100) \n",
    "plt.title(\"Players age\")\n",
    "plt.xlabel(\"Name\", fontsize=15)\n",
    "plt.ylabel(\"Age\", fontsize=15)\n",
    "plt.tick_params(axis=\"both\", labelsize=14)\n",
    "plt.show()"
   ]
  },
  {
   "cell_type": "code",
   "execution_count": null,
   "id": "58d3978f",
   "metadata": {},
   "outputs": [],
   "source": [
    "# Calculating data Automatically. \n",
    "# Typing out lists by hand can be very intimidating, especially when the list is too long. So, we can use a loop to visaualize the data if the data is too lengthy. \n",
    "import matplotlib.pyplot as plt # Importing the pyplot module from matplotlib package.\n",
    "\n",
    "x_values = list(range(1,1001))\n",
    "y_values = [x**2 for x in x_values]\n",
    "\n",
    "plt.scatter(x_values, y_values, edgecolor=\"none\", s=40) #We use the scatter plot function and remove the edge color from the plotted points\n",
    "plt.axis([0,1200,0,1200000])\n",
    "plt.title(\"A graph using a for loop of squared values\")\n",
    "plt.xlabel(\"Number\")\n",
    "plt.ylabel(\"Squared value of the number: \")\n",
    "plt.show() \n",
    "\n",
    "# Thus python can plot 1000 points as easily as 5 points. \n"
   ]
  },
  {
   "cell_type": "code",
   "execution_count": null,
   "id": "574ae1c9",
   "metadata": {},
   "outputs": [],
   "source": [
    "# Defining Custom colors to the plot\n",
    "# To change the color of the points, pass c to scatter() with the name of a color to use, as shown here: \n",
    "\n",
    "# We can also define custom colors using the RGB Color model. To define a color pass the c value a tuple with 3 decimal values. (One each for red, green and blue.)\n",
    "\n",
    "\n",
    "import matplotlib.pyplot as plt # Importing the pyplot module from matplotlib package.\n",
    "\n",
    "x_values = list(range(1,1001))\n",
    "y_values = [x**2 for x in x_values]\n",
    "\n",
    "plt.scatter(x_values, y_values, c=\"Magenta\", s=100, edgecolor=\"none\") #We use the scatter plot function and remove the edge color from the plotted points\n",
    "plt.axis([0,1200,0,1200000])\n",
    "plt.show() "
   ]
  },
  {
   "cell_type": "code",
   "execution_count": null,
   "id": "9c7b600a",
   "metadata": {},
   "outputs": [],
   "source": [
    "# Using a colormap. \n",
    "# A colormap is a series of colors in a gradient that moves from a starting to ending color. Colormaps are used in visualizations to emphasize a pattern in the data.\n",
    "# For example you might want to make low values a light color and high values a darker color. The pyplot module includes a built-in color maps. To use one of these color maps, you need to \n",
    "# specify how pyplot should assign a color to each point in the data set. Here's how to assign each point a color bases on its y-value. \n",
    "\n",
    "import matplotlib.pyplot as plt # Importing the pyplot module from matplotlib package.\n",
    "\n",
    "x_values = list(range(1,1001))\n",
    "y_values = [x**2 for x in x_values]\n",
    "\n",
    "plt.scatter(x_values, y_values, c=y_values, cmap=plt.cm.Purples ,s=100, edgecolor=\"none\") #We use the scatter plot function and remove the edge color from the plotted points\n",
    "plt.axis([0,1200,0,1200000])\n",
    "plt.savefig(\"ColorMap.png\")\n",
    "plt.show() "
   ]
  },
  {
   "cell_type": "code",
   "execution_count": null,
   "id": "5268ff69",
   "metadata": {},
   "outputs": [],
   "source": [
    "# Explanation: Here, we pass the list y_values to the c value and then tell pyplot which colormap to use through the cmap argument. The code colors the lower y-values light blue\n",
    "# and gives higher values a darker shade, this helps in visualization to identify the data through color, and can provide a better representation. \n",
    "\n",
    "# Also, if you need to save the plot directly, we can use the plt.savefig(\"filename\")\n",
    "\n"
   ]
  },
  {
   "cell_type": "code",
   "execution_count": null,
   "id": "7a1a8679",
   "metadata": {},
   "outputs": [],
   "source": [
    "# Example: Try It Yourself Questions: "
   ]
  },
  {
   "cell_type": "code",
   "execution_count": null,
   "id": "b4ea678b",
   "metadata": {},
   "outputs": [],
   "source": [
    "# 15.1 Cubes: A number raised to the power of 3 is a cube. Plot the first five, cubic numbers, and then plot the first 5000 cubic numbers. \n",
    "\n",
    "import matplotlib.pyplot as pl\n",
    "starting_values = [1,2,3,4,5]\n",
    "cube = [1,8,27,64,125]\n",
    "pl.plot(cube)\n",
    "plt.title(\"Cube of first 5 numbers. \")\n",
    "pl.xlabel(\"Numbers\", fontsize=14)\n",
    "pl.axis([0,5,0,130])\n",
    "pl.ylabel(\"Cube of numbers:\", fontsize=12)\n",
    "pl.tick_params(axis=\"both\", labelsize=16)\n",
    "pl.savefig(\"first_3_cubes.png\")\n",
    "pl.show()"
   ]
  },
  {
   "cell_type": "code",
   "execution_count": null,
   "id": "c889f350",
   "metadata": {},
   "outputs": [],
   "source": [
    "# 15.1.2. Plotting the first 5000 cubic numbers. \n",
    "import matplotlib.pyplot as pl\n",
    "\n",
    "x_values = list(range(1,1001))\n",
    "y_values = [x**3 for x in x_values]\n",
    "pl.title(\"Cubes of 5000 numbers. \")\n",
    "pl.xlabel(\"Numbers\")\n",
    "pl.ylabel(\"Values\")\n",
    "pl.scatter(x_values, y_values,c=y_values,cmap=pl.cm.Blues,s=10)\n",
    "pl.savefig(\"Cube_of_5000.jpeg\")\n",
    "pl.show()\n"
   ]
  },
  {
   "cell_type": "code",
   "execution_count": 1,
   "id": "9a2ef3c7",
   "metadata": {},
   "outputs": [],
   "source": [
    "# Random Walks: \n",
    "# In this section we'll use Python to generate data for a random walk and then use matplotlib to create a visually appealing representation of the generated data. \n",
    "# A random walk is a path that has no clear direction but is determined by a series of random decisions. \n",
    "\n",
    "# To create a random walk, we'll create a RandomWalk class, which will make random decisions about which direction the walk should take. The class needs 3 attributes: One variable\n",
    "# to store  the number of points in the walk and two lists to store the x-and y-corrdinate values of each point in the walk. \n",
    "\n",
    "# We'll use only 2 method for the RandomWalk class, the __init__() method and the fill_walk() method, which will calculate the points in the walk. Let's start with __init__() as shown here: \n",
    "\n",
    "\n"
   ]
  },
  {
   "cell_type": "code",
   "execution_count": null,
   "id": "c351b3ef",
   "metadata": {},
   "outputs": [],
   "source": []
  }
 ],
 "metadata": {
  "kernelspec": {
   "display_name": "Python 3 (ipykernel)",
   "language": "python",
   "name": "python3"
  },
  "language_info": {
   "codemirror_mode": {
    "name": "ipython",
    "version": 3
   },
   "file_extension": ".py",
   "mimetype": "text/x-python",
   "name": "python",
   "nbconvert_exporter": "python",
   "pygments_lexer": "ipython3",
   "version": "3.11.7"
  }
 },
 "nbformat": 4,
 "nbformat_minor": 5
}
